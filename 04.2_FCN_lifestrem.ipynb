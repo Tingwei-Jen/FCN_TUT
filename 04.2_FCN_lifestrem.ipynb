{
 "cells": [
  {
   "cell_type": "code",
   "execution_count": 1,
   "metadata": {
    "collapsed": false
   },
   "outputs": [
    {
     "name": "stdout",
     "output_type": "stream",
     "text": [
      "INFO:tensorflow:Restoring parameters from /home/tingwei/All/Machine_Learning/Image_Segmentation/checkpoints/fcn_8s_checkpoint/model_fcn8s_final.ckpt\n"
     ]
    },
    {
     "ename": "ValueError",
     "evalue": "total size of new array must be unchanged",
     "output_type": "error",
     "traceback": [
      "\u001b[0;31m---------------------------------------------------------------------------\u001b[0m",
      "\u001b[0;31mValueError\u001b[0m                                Traceback (most recent call last)",
      "\u001b[0;32m<ipython-input-1-9ebe6dd21d1f>\u001b[0m in \u001b[0;36m<module>\u001b[0;34m()\u001b[0m\n\u001b[1;32m     85\u001b[0m \u001b[0;34m\u001b[0m\u001b[0m\n\u001b[1;32m     86\u001b[0m \u001b[0;34m\u001b[0m\u001b[0m\n\u001b[0;32m---> 87\u001b[0;31m         \u001b[0mFrame\u001b[0m \u001b[0;34m=\u001b[0m \u001b[0mFrame\u001b[0m\u001b[0;34m.\u001b[0m\u001b[0mreshape\u001b[0m\u001b[0;34m(\u001b[0m\u001b[0;36m240\u001b[0m\u001b[0;34m,\u001b[0m \u001b[0;36m320\u001b[0m\u001b[0;34m)\u001b[0m\u001b[0;34m\u001b[0m\u001b[0m\n\u001b[0m\u001b[1;32m     88\u001b[0m \u001b[0;34m\u001b[0m\u001b[0m\n\u001b[1;32m     89\u001b[0m         \u001b[0mimage_np\u001b[0m\u001b[0;34m,\u001b[0m \u001b[0mpred_np\u001b[0m \u001b[0;34m=\u001b[0m \u001b[0msess\u001b[0m\u001b[0;34m.\u001b[0m\u001b[0mrun\u001b[0m\u001b[0;34m(\u001b[0m\u001b[0;34m[\u001b[0m\u001b[0mimage_tensor\u001b[0m\u001b[0;34m,\u001b[0m \u001b[0mpred\u001b[0m\u001b[0;34m]\u001b[0m\u001b[0;34m,\u001b[0m \u001b[0mfeed_dict\u001b[0m\u001b[0;34m=\u001b[0m \u001b[0;34m{\u001b[0m\u001b[0mimage_tensor\u001b[0m \u001b[0;34m:\u001b[0m \u001b[0mFrame\u001b[0m\u001b[0;34m}\u001b[0m\u001b[0;34m)\u001b[0m\u001b[0;34m\u001b[0m\u001b[0m\n",
      "\u001b[0;31mValueError\u001b[0m: total size of new array must be unchanged"
     ]
    }
   ],
   "source": [
    "%matplotlib inline\n",
    "\n",
    "from __future__ import division\n",
    "\n",
    "import sys\n",
    "import tensorflow as tf\n",
    "import skimage.io as io\n",
    "import numpy as np\n",
    "\n",
    "sys.path.append(\"/home/tingwei/All/Machine_Learning/Image_Segmentation/Daniil_tf-image-segmentation/\")\n",
    "sys.path.append(\"/home/tingwei/All/Machine_Learning/Image_Segmentation/models/slim\")\n",
    "\n",
    "fcn_16s_checkpoint_path = '/home/tingwei/All/Machine_Learning/Image_Segmentation/checkpoints/fcn_8s_checkpoint/model_fcn8s_final.ckpt'\n",
    "\n",
    "\n",
    "slim = tf.contrib.slim\n",
    "\n",
    "from tf_image_segmentation.models.fcn_8s import FCN_8s\n",
    "from tf_image_segmentation.utils.inference import adapt_network_for_any_size_input\n",
    "from tf_image_segmentation.utils.pascal_voc import pascal_segmentation_lut\n",
    "\n",
    "number_of_classes = 21\n",
    "\n",
    "\n",
    "image_tensor = tf.placeholder(\"uint8\", [None, None, 3])\n",
    "\n",
    "\n",
    "# Fake batch for image and annotation by adding\n",
    "# leading empty axis.\n",
    "image_batch_tensor = tf.expand_dims(image_tensor, axis=0)\n",
    "\n",
    "# Be careful: after adaptation, network returns final labels\n",
    "# and not logits\n",
    "FCN_8s = adapt_network_for_any_size_input(FCN_8s, 32)\n",
    "\n",
    "\n",
    "pred, fcn_16s_variables_mapping = FCN_8s(image_batch_tensor=image_batch_tensor,\n",
    "                                          number_of_classes=number_of_classes,\n",
    "                                          is_training=False)\n",
    "\n",
    "# The op for initializing the variables.\n",
    "initializer = tf.local_variables_initializer()\n",
    "\n",
    "saver = tf.train.Saver()\n",
    "\n",
    "\n",
    "\n",
    "import numpy as np\n",
    "import cv2\n",
    "import threading\n",
    "import time\n",
    "import matplotlib.pyplot as plt\n",
    "\n",
    "\n",
    "cap = cv2.VideoCapture(0)\n",
    "ret, Frame = cap.read()\n",
    "\n",
    "\n",
    "def CaptureVideo():\n",
    "    \n",
    "    global Frame\n",
    "    while(True):\n",
    "        # Capture frame-by-frame\n",
    "        ret, Frame = cap.read()\n",
    " \n",
    "        # Display the resulting frame\n",
    "        cv2.imshow('Frame',Frame)\n",
    "        if cv2.waitKey(10) & 0xFF == ord('q'):\n",
    "            break\n",
    "\n",
    "\n",
    "CVthread = threading.Thread(target=CaptureVideo,)\n",
    "CVthread.start()\n",
    "            \n",
    "            \n",
    "while(True):            \n",
    "    \n",
    "    with tf.Session() as sess:\n",
    "    \n",
    "        sess.run(initializer)\n",
    "\n",
    "        saver.restore(sess, \"/home/tingwei/All/Machine_Learning/Image_Segmentation/checkpoints/fcn_8s_checkpoint/model_fcn8s_final.ckpt\")\n",
    "\n",
    "        tStart = time.time()\n",
    "        \n",
    "        image_np, pred_np = sess.run([image_tensor, pred], feed_dict= {image_tensor : Frame})\n",
    "    \n",
    "        tEnd = time.time()\n",
    "        \n",
    "        print \"It cost %f sec\" % (tEnd - tStart)\n",
    "\n",
    "        #io.imshow(image_np)\n",
    "        #io.show()\n",
    "    \n",
    "        io.imshow(pred_np.squeeze())\n",
    "        io.show()\n",
    "        "
   ]
  },
  {
   "cell_type": "code",
   "execution_count": null,
   "metadata": {
    "collapsed": true
   },
   "outputs": [],
   "source": []
  },
  {
   "cell_type": "code",
   "execution_count": null,
   "metadata": {
    "collapsed": true
   },
   "outputs": [],
   "source": []
  },
  {
   "cell_type": "code",
   "execution_count": null,
   "metadata": {
    "collapsed": true
   },
   "outputs": [],
   "source": []
  }
 ],
 "metadata": {
  "kernelspec": {
   "display_name": "Python 2",
   "language": "python",
   "name": "python2"
  },
  "language_info": {
   "codemirror_mode": {
    "name": "ipython",
    "version": 2
   },
   "file_extension": ".py",
   "mimetype": "text/x-python",
   "name": "python",
   "nbconvert_exporter": "python",
   "pygments_lexer": "ipython2",
   "version": "2.7.13"
  }
 },
 "nbformat": 4,
 "nbformat_minor": 2
}
